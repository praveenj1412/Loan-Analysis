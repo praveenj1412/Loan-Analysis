{
  "cells": [
    {
      "cell_type": "code",
      "source": [
        "!pip install pyspark"
      ],
      "metadata": {
        "colab": {
          "base_uri": "https://localhost:8080/"
        },
        "id": "5O-VLLmhzm97",
        "outputId": "5651f15f-33dd-4d30-d616-8323a95596ae"
      },
      "execution_count": 1,
      "outputs": [
        {
          "output_type": "stream",
          "name": "stdout",
          "text": [
            "Collecting pyspark\n",
            "  Downloading pyspark-3.5.1.tar.gz (317.0 MB)\n",
            "\u001b[2K     \u001b[90m━━━━━━━━━━━━━━━━━━━━━━━━━━━━━━━━━━━━━━━━\u001b[0m \u001b[32m317.0/317.0 MB\u001b[0m \u001b[31m2.4 MB/s\u001b[0m eta \u001b[36m0:00:00\u001b[0m\n",
            "\u001b[?25h  Preparing metadata (setup.py) ... \u001b[?25l\u001b[?25hdone\n",
            "Requirement already satisfied: py4j==0.10.9.7 in /usr/local/lib/python3.10/dist-packages (from pyspark) (0.10.9.7)\n",
            "Building wheels for collected packages: pyspark\n",
            "  Building wheel for pyspark (setup.py) ... \u001b[?25l\u001b[?25hdone\n",
            "  Created wheel for pyspark: filename=pyspark-3.5.1-py2.py3-none-any.whl size=317488491 sha256=456e22358cacf4b3cd191ae80212c6297327d35309ce87b69f173805053ee31f\n",
            "  Stored in directory: /root/.cache/pip/wheels/80/1d/60/2c256ed38dddce2fdd93be545214a63e02fbd8d74fb0b7f3a6\n",
            "Successfully built pyspark\n",
            "Installing collected packages: pyspark\n",
            "Successfully installed pyspark-3.5.1\n"
          ]
        }
      ]
    },
    {
      "cell_type": "markdown",
      "metadata": {
        "id": "_j0hpoJGw_q6"
      },
      "source": [
        "## Import Modules"
      ]
    },
    {
      "cell_type": "code",
      "execution_count": 2,
      "metadata": {
        "id": "ZcED3mdiw_q6"
      },
      "outputs": [],
      "source": [
        "from pyspark.sql import SparkSession\n",
        "import pyspark.sql.functions as F\n",
        "\n",
        "import pandas as pd\n",
        "import warnings\n",
        "warnings.filterwarnings('ignore')"
      ]
    },
    {
      "cell_type": "code",
      "execution_count": 3,
      "metadata": {
        "id": "_tW7mO2sw_q6"
      },
      "outputs": [],
      "source": [
        "spark = SparkSession.builder.appName('loan_prediction').getOrCreate()"
      ]
    },
    {
      "cell_type": "markdown",
      "metadata": {
        "id": "redsgptfw_q7"
      },
      "source": [
        "## Load the Dataset"
      ]
    },
    {
      "cell_type": "code",
      "execution_count": 72,
      "metadata": {
        "id": "8yf6KFYpw_q7",
        "outputId": "52de8e6d-f86f-4209-f37d-2d8a4908e4cb",
        "colab": {
          "base_uri": "https://localhost:8080/"
        }
      },
      "outputs": [
        {
          "output_type": "stream",
          "name": "stdout",
          "text": [
            "+-------+----------------+-------------+-------------+------------+-----------+---------+-----------+------------------------+-----------------------+-------------------+----------------+-----------+\n",
            "|loan_id|no_of_dependents|    education|self_employed|income_annum|loan_amount|loan_term|cibil_score|residential_assets_value|commercial_assets_value|luxury_assets_value|bank_asset_value|loan_status|\n",
            "+-------+----------------+-------------+-------------+------------+-----------+---------+-----------+------------------------+-----------------------+-------------------+----------------+-----------+\n",
            "|      1|               2|     Graduate|           No|     9600000|   29900000|       12|        778|                 2400000|               17600000|           22700000|         8000000|   Approved|\n",
            "|      2|               0| Not Graduate|          Yes|     4100000|   12200000|        8|        417|                 2700000|                2200000|            8800000|         3300000|   Rejected|\n",
            "|      3|               3|     Graduate|           No|     9100000|   29700000|       20|        506|                 7100000|                4500000|           33300000|        12800000|   Rejected|\n",
            "|      4|               3|     Graduate|           No|     8200000|   30700000|        8|        467|                18200000|                3300000|           23300000|         7900000|   Rejected|\n",
            "|      5|               5| Not Graduate|          Yes|     9800000|   24200000|       20|        382|                12400000|                8200000|           29400000|         5000000|   Rejected|\n",
            "+-------+----------------+-------------+-------------+------------+-----------+---------+-----------+------------------------+-----------------------+-------------------+----------------+-----------+\n",
            "only showing top 5 rows\n",
            "\n"
          ]
        }
      ],
      "source": [
        "df = spark.read.csv('/content/loan_approval_dataset.csv', header=True, sep=',', inferSchema=True)\n",
        "df.show(5)"
      ]
    },
    {
      "cell_type": "code",
      "execution_count": 73,
      "metadata": {
        "id": "syNk_5Tsw_q7",
        "outputId": "35f5a0e5-a7cb-42dc-edbe-b7629c1260e3",
        "colab": {
          "base_uri": "https://localhost:8080/"
        }
      },
      "outputs": [
        {
          "output_type": "stream",
          "name": "stdout",
          "text": [
            "root\n",
            " |-- loan_id: integer (nullable = true)\n",
            " |-- no_of_dependents: integer (nullable = true)\n",
            " |-- education: string (nullable = true)\n",
            " |-- self_employed: string (nullable = true)\n",
            " |-- income_annum: integer (nullable = true)\n",
            " |-- loan_amount: integer (nullable = true)\n",
            " |-- loan_term: integer (nullable = true)\n",
            " |-- cibil_score: integer (nullable = true)\n",
            " |-- residential_assets_value: integer (nullable = true)\n",
            " |-- commercial_assets_value: integer (nullable = true)\n",
            " |-- luxury_assets_value: integer (nullable = true)\n",
            " |-- bank_asset_value: integer (nullable = true)\n",
            " |-- loan_status: string (nullable = true)\n",
            "\n"
          ]
        }
      ],
      "source": [
        "df.printSchema()"
      ]
    },
    {
      "cell_type": "code",
      "execution_count": 74,
      "metadata": {
        "id": "GP-EYCFzw_q7",
        "outputId": "5724511f-7fa6-4372-c56e-137c3e8a880d",
        "colab": {
          "base_uri": "https://localhost:8080/"
        }
      },
      "outputs": [
        {
          "output_type": "execute_result",
          "data": {
            "text/plain": [
              "[('loan_id', 'int'),\n",
              " ('no_of_dependents', 'int'),\n",
              " ('education', 'string'),\n",
              " ('self_employed', 'string'),\n",
              " ('income_annum', 'int'),\n",
              " ('loan_amount', 'int'),\n",
              " ('loan_term', 'int'),\n",
              " ('cibil_score', 'int'),\n",
              " ('residential_assets_value', 'int'),\n",
              " ('commercial_assets_value', 'int'),\n",
              " ('luxury_assets_value', 'int'),\n",
              " ('bank_asset_value', 'int'),\n",
              " ('loan_status', 'string')]"
            ]
          },
          "metadata": {},
          "execution_count": 74
        }
      ],
      "source": [
        "df.dtypes"
      ]
    },
    {
      "cell_type": "code",
      "execution_count": 75,
      "metadata": {
        "id": "ZZvrIIS8w_q8",
        "outputId": "4c59b700-8124-4d2f-b861-38cad25a9889",
        "colab": {
          "base_uri": "https://localhost:8080/",
          "height": 260
        }
      },
      "outputs": [
        {
          "output_type": "execute_result",
          "data": {
            "text/plain": [
              "   loan_id  no_of_dependents      education self_employed  income_annum  \\\n",
              "0        1                 2       Graduate            No       9600000   \n",
              "1        2                 0   Not Graduate           Yes       4100000   \n",
              "2        3                 3       Graduate            No       9100000   \n",
              "3        4                 3       Graduate            No       8200000   \n",
              "4        5                 5   Not Graduate           Yes       9800000   \n",
              "\n",
              "   loan_amount  loan_term  cibil_score  residential_assets_value  \\\n",
              "0     29900000         12          778                   2400000   \n",
              "1     12200000          8          417                   2700000   \n",
              "2     29700000         20          506                   7100000   \n",
              "3     30700000          8          467                  18200000   \n",
              "4     24200000         20          382                  12400000   \n",
              "\n",
              "   commercial_assets_value  luxury_assets_value  bank_asset_value loan_status  \n",
              "0                 17600000             22700000           8000000    Approved  \n",
              "1                  2200000              8800000           3300000    Rejected  \n",
              "2                  4500000             33300000          12800000    Rejected  \n",
              "3                  3300000             23300000           7900000    Rejected  \n",
              "4                  8200000             29400000           5000000    Rejected  "
            ],
            "text/html": [
              "\n",
              "  <div id=\"df-78ab212b-e5b0-495e-a031-7641c6ae322d\" class=\"colab-df-container\">\n",
              "    <div>\n",
              "<style scoped>\n",
              "    .dataframe tbody tr th:only-of-type {\n",
              "        vertical-align: middle;\n",
              "    }\n",
              "\n",
              "    .dataframe tbody tr th {\n",
              "        vertical-align: top;\n",
              "    }\n",
              "\n",
              "    .dataframe thead th {\n",
              "        text-align: right;\n",
              "    }\n",
              "</style>\n",
              "<table border=\"1\" class=\"dataframe\">\n",
              "  <thead>\n",
              "    <tr style=\"text-align: right;\">\n",
              "      <th></th>\n",
              "      <th>loan_id</th>\n",
              "      <th>no_of_dependents</th>\n",
              "      <th>education</th>\n",
              "      <th>self_employed</th>\n",
              "      <th>income_annum</th>\n",
              "      <th>loan_amount</th>\n",
              "      <th>loan_term</th>\n",
              "      <th>cibil_score</th>\n",
              "      <th>residential_assets_value</th>\n",
              "      <th>commercial_assets_value</th>\n",
              "      <th>luxury_assets_value</th>\n",
              "      <th>bank_asset_value</th>\n",
              "      <th>loan_status</th>\n",
              "    </tr>\n",
              "  </thead>\n",
              "  <tbody>\n",
              "    <tr>\n",
              "      <th>0</th>\n",
              "      <td>1</td>\n",
              "      <td>2</td>\n",
              "      <td>Graduate</td>\n",
              "      <td>No</td>\n",
              "      <td>9600000</td>\n",
              "      <td>29900000</td>\n",
              "      <td>12</td>\n",
              "      <td>778</td>\n",
              "      <td>2400000</td>\n",
              "      <td>17600000</td>\n",
              "      <td>22700000</td>\n",
              "      <td>8000000</td>\n",
              "      <td>Approved</td>\n",
              "    </tr>\n",
              "    <tr>\n",
              "      <th>1</th>\n",
              "      <td>2</td>\n",
              "      <td>0</td>\n",
              "      <td>Not Graduate</td>\n",
              "      <td>Yes</td>\n",
              "      <td>4100000</td>\n",
              "      <td>12200000</td>\n",
              "      <td>8</td>\n",
              "      <td>417</td>\n",
              "      <td>2700000</td>\n",
              "      <td>2200000</td>\n",
              "      <td>8800000</td>\n",
              "      <td>3300000</td>\n",
              "      <td>Rejected</td>\n",
              "    </tr>\n",
              "    <tr>\n",
              "      <th>2</th>\n",
              "      <td>3</td>\n",
              "      <td>3</td>\n",
              "      <td>Graduate</td>\n",
              "      <td>No</td>\n",
              "      <td>9100000</td>\n",
              "      <td>29700000</td>\n",
              "      <td>20</td>\n",
              "      <td>506</td>\n",
              "      <td>7100000</td>\n",
              "      <td>4500000</td>\n",
              "      <td>33300000</td>\n",
              "      <td>12800000</td>\n",
              "      <td>Rejected</td>\n",
              "    </tr>\n",
              "    <tr>\n",
              "      <th>3</th>\n",
              "      <td>4</td>\n",
              "      <td>3</td>\n",
              "      <td>Graduate</td>\n",
              "      <td>No</td>\n",
              "      <td>8200000</td>\n",
              "      <td>30700000</td>\n",
              "      <td>8</td>\n",
              "      <td>467</td>\n",
              "      <td>18200000</td>\n",
              "      <td>3300000</td>\n",
              "      <td>23300000</td>\n",
              "      <td>7900000</td>\n",
              "      <td>Rejected</td>\n",
              "    </tr>\n",
              "    <tr>\n",
              "      <th>4</th>\n",
              "      <td>5</td>\n",
              "      <td>5</td>\n",
              "      <td>Not Graduate</td>\n",
              "      <td>Yes</td>\n",
              "      <td>9800000</td>\n",
              "      <td>24200000</td>\n",
              "      <td>20</td>\n",
              "      <td>382</td>\n",
              "      <td>12400000</td>\n",
              "      <td>8200000</td>\n",
              "      <td>29400000</td>\n",
              "      <td>5000000</td>\n",
              "      <td>Rejected</td>\n",
              "    </tr>\n",
              "  </tbody>\n",
              "</table>\n",
              "</div>\n",
              "    <div class=\"colab-df-buttons\">\n",
              "\n",
              "  <div class=\"colab-df-container\">\n",
              "    <button class=\"colab-df-convert\" onclick=\"convertToInteractive('df-78ab212b-e5b0-495e-a031-7641c6ae322d')\"\n",
              "            title=\"Convert this dataframe to an interactive table.\"\n",
              "            style=\"display:none;\">\n",
              "\n",
              "  <svg xmlns=\"http://www.w3.org/2000/svg\" height=\"24px\" viewBox=\"0 -960 960 960\">\n",
              "    <path d=\"M120-120v-720h720v720H120Zm60-500h600v-160H180v160Zm220 220h160v-160H400v160Zm0 220h160v-160H400v160ZM180-400h160v-160H180v160Zm440 0h160v-160H620v160ZM180-180h160v-160H180v160Zm440 0h160v-160H620v160Z\"/>\n",
              "  </svg>\n",
              "    </button>\n",
              "\n",
              "  <style>\n",
              "    .colab-df-container {\n",
              "      display:flex;\n",
              "      gap: 12px;\n",
              "    }\n",
              "\n",
              "    .colab-df-convert {\n",
              "      background-color: #E8F0FE;\n",
              "      border: none;\n",
              "      border-radius: 50%;\n",
              "      cursor: pointer;\n",
              "      display: none;\n",
              "      fill: #1967D2;\n",
              "      height: 32px;\n",
              "      padding: 0 0 0 0;\n",
              "      width: 32px;\n",
              "    }\n",
              "\n",
              "    .colab-df-convert:hover {\n",
              "      background-color: #E2EBFA;\n",
              "      box-shadow: 0px 1px 2px rgba(60, 64, 67, 0.3), 0px 1px 3px 1px rgba(60, 64, 67, 0.15);\n",
              "      fill: #174EA6;\n",
              "    }\n",
              "\n",
              "    .colab-df-buttons div {\n",
              "      margin-bottom: 4px;\n",
              "    }\n",
              "\n",
              "    [theme=dark] .colab-df-convert {\n",
              "      background-color: #3B4455;\n",
              "      fill: #D2E3FC;\n",
              "    }\n",
              "\n",
              "    [theme=dark] .colab-df-convert:hover {\n",
              "      background-color: #434B5C;\n",
              "      box-shadow: 0px 1px 3px 1px rgba(0, 0, 0, 0.15);\n",
              "      filter: drop-shadow(0px 1px 2px rgba(0, 0, 0, 0.3));\n",
              "      fill: #FFFFFF;\n",
              "    }\n",
              "  </style>\n",
              "\n",
              "    <script>\n",
              "      const buttonEl =\n",
              "        document.querySelector('#df-78ab212b-e5b0-495e-a031-7641c6ae322d button.colab-df-convert');\n",
              "      buttonEl.style.display =\n",
              "        google.colab.kernel.accessAllowed ? 'block' : 'none';\n",
              "\n",
              "      async function convertToInteractive(key) {\n",
              "        const element = document.querySelector('#df-78ab212b-e5b0-495e-a031-7641c6ae322d');\n",
              "        const dataTable =\n",
              "          await google.colab.kernel.invokeFunction('convertToInteractive',\n",
              "                                                    [key], {});\n",
              "        if (!dataTable) return;\n",
              "\n",
              "        const docLinkHtml = 'Like what you see? Visit the ' +\n",
              "          '<a target=\"_blank\" href=https://colab.research.google.com/notebooks/data_table.ipynb>data table notebook</a>'\n",
              "          + ' to learn more about interactive tables.';\n",
              "        element.innerHTML = '';\n",
              "        dataTable['output_type'] = 'display_data';\n",
              "        await google.colab.output.renderOutput(dataTable, element);\n",
              "        const docLink = document.createElement('div');\n",
              "        docLink.innerHTML = docLinkHtml;\n",
              "        element.appendChild(docLink);\n",
              "      }\n",
              "    </script>\n",
              "  </div>\n",
              "\n",
              "\n",
              "<div id=\"df-f8c9d74e-93fe-4ab1-9676-414483b42f96\">\n",
              "  <button class=\"colab-df-quickchart\" onclick=\"quickchart('df-f8c9d74e-93fe-4ab1-9676-414483b42f96')\"\n",
              "            title=\"Suggest charts\"\n",
              "            style=\"display:none;\">\n",
              "\n",
              "<svg xmlns=\"http://www.w3.org/2000/svg\" height=\"24px\"viewBox=\"0 0 24 24\"\n",
              "     width=\"24px\">\n",
              "    <g>\n",
              "        <path d=\"M19 3H5c-1.1 0-2 .9-2 2v14c0 1.1.9 2 2 2h14c1.1 0 2-.9 2-2V5c0-1.1-.9-2-2-2zM9 17H7v-7h2v7zm4 0h-2V7h2v10zm4 0h-2v-4h2v4z\"/>\n",
              "    </g>\n",
              "</svg>\n",
              "  </button>\n",
              "\n",
              "<style>\n",
              "  .colab-df-quickchart {\n",
              "      --bg-color: #E8F0FE;\n",
              "      --fill-color: #1967D2;\n",
              "      --hover-bg-color: #E2EBFA;\n",
              "      --hover-fill-color: #174EA6;\n",
              "      --disabled-fill-color: #AAA;\n",
              "      --disabled-bg-color: #DDD;\n",
              "  }\n",
              "\n",
              "  [theme=dark] .colab-df-quickchart {\n",
              "      --bg-color: #3B4455;\n",
              "      --fill-color: #D2E3FC;\n",
              "      --hover-bg-color: #434B5C;\n",
              "      --hover-fill-color: #FFFFFF;\n",
              "      --disabled-bg-color: #3B4455;\n",
              "      --disabled-fill-color: #666;\n",
              "  }\n",
              "\n",
              "  .colab-df-quickchart {\n",
              "    background-color: var(--bg-color);\n",
              "    border: none;\n",
              "    border-radius: 50%;\n",
              "    cursor: pointer;\n",
              "    display: none;\n",
              "    fill: var(--fill-color);\n",
              "    height: 32px;\n",
              "    padding: 0;\n",
              "    width: 32px;\n",
              "  }\n",
              "\n",
              "  .colab-df-quickchart:hover {\n",
              "    background-color: var(--hover-bg-color);\n",
              "    box-shadow: 0 1px 2px rgba(60, 64, 67, 0.3), 0 1px 3px 1px rgba(60, 64, 67, 0.15);\n",
              "    fill: var(--button-hover-fill-color);\n",
              "  }\n",
              "\n",
              "  .colab-df-quickchart-complete:disabled,\n",
              "  .colab-df-quickchart-complete:disabled:hover {\n",
              "    background-color: var(--disabled-bg-color);\n",
              "    fill: var(--disabled-fill-color);\n",
              "    box-shadow: none;\n",
              "  }\n",
              "\n",
              "  .colab-df-spinner {\n",
              "    border: 2px solid var(--fill-color);\n",
              "    border-color: transparent;\n",
              "    border-bottom-color: var(--fill-color);\n",
              "    animation:\n",
              "      spin 1s steps(1) infinite;\n",
              "  }\n",
              "\n",
              "  @keyframes spin {\n",
              "    0% {\n",
              "      border-color: transparent;\n",
              "      border-bottom-color: var(--fill-color);\n",
              "      border-left-color: var(--fill-color);\n",
              "    }\n",
              "    20% {\n",
              "      border-color: transparent;\n",
              "      border-left-color: var(--fill-color);\n",
              "      border-top-color: var(--fill-color);\n",
              "    }\n",
              "    30% {\n",
              "      border-color: transparent;\n",
              "      border-left-color: var(--fill-color);\n",
              "      border-top-color: var(--fill-color);\n",
              "      border-right-color: var(--fill-color);\n",
              "    }\n",
              "    40% {\n",
              "      border-color: transparent;\n",
              "      border-right-color: var(--fill-color);\n",
              "      border-top-color: var(--fill-color);\n",
              "    }\n",
              "    60% {\n",
              "      border-color: transparent;\n",
              "      border-right-color: var(--fill-color);\n",
              "    }\n",
              "    80% {\n",
              "      border-color: transparent;\n",
              "      border-right-color: var(--fill-color);\n",
              "      border-bottom-color: var(--fill-color);\n",
              "    }\n",
              "    90% {\n",
              "      border-color: transparent;\n",
              "      border-bottom-color: var(--fill-color);\n",
              "    }\n",
              "  }\n",
              "</style>\n",
              "\n",
              "  <script>\n",
              "    async function quickchart(key) {\n",
              "      const quickchartButtonEl =\n",
              "        document.querySelector('#' + key + ' button');\n",
              "      quickchartButtonEl.disabled = true;  // To prevent multiple clicks.\n",
              "      quickchartButtonEl.classList.add('colab-df-spinner');\n",
              "      try {\n",
              "        const charts = await google.colab.kernel.invokeFunction(\n",
              "            'suggestCharts', [key], {});\n",
              "      } catch (error) {\n",
              "        console.error('Error during call to suggestCharts:', error);\n",
              "      }\n",
              "      quickchartButtonEl.classList.remove('colab-df-spinner');\n",
              "      quickchartButtonEl.classList.add('colab-df-quickchart-complete');\n",
              "    }\n",
              "    (() => {\n",
              "      let quickchartButtonEl =\n",
              "        document.querySelector('#df-f8c9d74e-93fe-4ab1-9676-414483b42f96 button');\n",
              "      quickchartButtonEl.style.display =\n",
              "        google.colab.kernel.accessAllowed ? 'block' : 'none';\n",
              "    })();\n",
              "  </script>\n",
              "</div>\n",
              "    </div>\n",
              "  </div>\n"
            ],
            "application/vnd.google.colaboratory.intrinsic+json": {
              "type": "dataframe",
              "variable_name": "pandas_df",
              "summary": "{\n  \"name\": \"pandas_df\",\n  \"rows\": 4269,\n  \"fields\": [\n    {\n      \"column\": \"loan_id\",\n      \"properties\": {\n        \"dtype\": \"int32\",\n        \"num_unique_values\": 4269,\n        \"samples\": [\n          1704,\n          1174,\n          309\n        ],\n        \"semantic_type\": \"\",\n        \"description\": \"\"\n      }\n    },\n    {\n      \"column\": \"no_of_dependents\",\n      \"properties\": {\n        \"dtype\": \"int32\",\n        \"num_unique_values\": 6,\n        \"samples\": [\n          2,\n          0,\n          1\n        ],\n        \"semantic_type\": \"\",\n        \"description\": \"\"\n      }\n    },\n    {\n      \"column\": \"education\",\n      \"properties\": {\n        \"dtype\": \"category\",\n        \"num_unique_values\": 2,\n        \"samples\": [\n          \" Not Graduate\",\n          \" Graduate\"\n        ],\n        \"semantic_type\": \"\",\n        \"description\": \"\"\n      }\n    },\n    {\n      \"column\": \"self_employed\",\n      \"properties\": {\n        \"dtype\": \"category\",\n        \"num_unique_values\": 2,\n        \"samples\": [\n          \" Yes\",\n          \" No\"\n        ],\n        \"semantic_type\": \"\",\n        \"description\": \"\"\n      }\n    },\n    {\n      \"column\": \"income_annum\",\n      \"properties\": {\n        \"dtype\": \"int32\",\n        \"num_unique_values\": 98,\n        \"samples\": [\n          6200000,\n          9300000\n        ],\n        \"semantic_type\": \"\",\n        \"description\": \"\"\n      }\n    },\n    {\n      \"column\": \"loan_amount\",\n      \"properties\": {\n        \"dtype\": \"int32\",\n        \"num_unique_values\": 378,\n        \"samples\": [\n          25800000,\n          26100000\n        ],\n        \"semantic_type\": \"\",\n        \"description\": \"\"\n      }\n    },\n    {\n      \"column\": \"loan_term\",\n      \"properties\": {\n        \"dtype\": \"int32\",\n        \"num_unique_values\": 10,\n        \"samples\": [\n          14,\n          8\n        ],\n        \"semantic_type\": \"\",\n        \"description\": \"\"\n      }\n    },\n    {\n      \"column\": \"cibil_score\",\n      \"properties\": {\n        \"dtype\": \"int32\",\n        \"num_unique_values\": 601,\n        \"samples\": [\n          859,\n          414\n        ],\n        \"semantic_type\": \"\",\n        \"description\": \"\"\n      }\n    },\n    {\n      \"column\": \"residential_assets_value\",\n      \"properties\": {\n        \"dtype\": \"int32\",\n        \"num_unique_values\": 278,\n        \"samples\": [\n          700000,\n          3500000\n        ],\n        \"semantic_type\": \"\",\n        \"description\": \"\"\n      }\n    },\n    {\n      \"column\": \"commercial_assets_value\",\n      \"properties\": {\n        \"dtype\": \"int32\",\n        \"num_unique_values\": 188,\n        \"samples\": [\n          13500000,\n          14600000\n        ],\n        \"semantic_type\": \"\",\n        \"description\": \"\"\n      }\n    },\n    {\n      \"column\": \"luxury_assets_value\",\n      \"properties\": {\n        \"dtype\": \"int32\",\n        \"num_unique_values\": 379,\n        \"samples\": [\n          15300000,\n          12100000\n        ],\n        \"semantic_type\": \"\",\n        \"description\": \"\"\n      }\n    },\n    {\n      \"column\": \"bank_asset_value\",\n      \"properties\": {\n        \"dtype\": \"int32\",\n        \"num_unique_values\": 146,\n        \"samples\": [\n          4800000,\n          14400000\n        ],\n        \"semantic_type\": \"\",\n        \"description\": \"\"\n      }\n    },\n    {\n      \"column\": \"loan_status\",\n      \"properties\": {\n        \"dtype\": \"category\",\n        \"num_unique_values\": 2,\n        \"samples\": [\n          \" Rejected\",\n          \" Approved\"\n        ],\n        \"semantic_type\": \"\",\n        \"description\": \"\"\n      }\n    }\n  ]\n}"
            }
          },
          "metadata": {},
          "execution_count": 75
        }
      ],
      "source": [
        "# convert spark dataframe to pandas\n",
        "pandas_df = df.toPandas()\n",
        "pandas_df.head()"
      ]
    },
    {
      "cell_type": "code",
      "source": [
        "df.columns"
      ],
      "metadata": {
        "colab": {
          "base_uri": "https://localhost:8080/"
        },
        "id": "0dvCcJQ6K_SH",
        "outputId": "25f5759b-07e4-406b-fa72-fdf520287c1e"
      },
      "execution_count": 76,
      "outputs": [
        {
          "output_type": "execute_result",
          "data": {
            "text/plain": [
              "['loan_id',\n",
              " 'no_of_dependents',\n",
              " 'education',\n",
              " 'self_employed',\n",
              " 'income_annum',\n",
              " 'loan_amount',\n",
              " 'loan_term',\n",
              " 'cibil_score',\n",
              " 'residential_assets_value',\n",
              " 'commercial_assets_value',\n",
              " 'luxury_assets_value',\n",
              " 'bank_asset_value',\n",
              " 'loan_status']"
            ]
          },
          "metadata": {},
          "execution_count": 76
        }
      ]
    },
    {
      "cell_type": "markdown",
      "metadata": {
        "id": "r8mNw-4ew_q8"
      },
      "source": [
        "## Data Analysis"
      ]
    },
    {
      "cell_type": "code",
      "execution_count": 77,
      "metadata": {
        "id": "JqT5afskw_q8",
        "outputId": "5c435dc2-3fe8-4fbc-dae5-a502cd32a781",
        "colab": {
          "base_uri": "https://localhost:8080/"
        }
      },
      "outputs": [
        {
          "output_type": "stream",
          "name": "stdout",
          "text": [
            "+-----------+-----+\n",
            "|loan_Status|count|\n",
            "+-----------+-----+\n",
            "|   Approved| 2656|\n",
            "|   Rejected| 1613|\n",
            "+-----------+-----+\n",
            "\n"
          ]
        }
      ],
      "source": [
        "df.groupBy('loan_Status').count().show()"
      ]
    },
    {
      "cell_type": "code",
      "execution_count": 78,
      "metadata": {
        "id": "9wNAnPkRw_q8",
        "outputId": "cbf32c3c-2c46-4e21-ac37-0cec6ae35444",
        "colab": {
          "base_uri": "https://localhost:8080/"
        }
      },
      "outputs": [
        {
          "output_type": "stream",
          "name": "stdout",
          "text": [
            "+-----------+-------------+-----+\n",
            "|loan_Status|    education|count|\n",
            "+-----------+-------------+-----+\n",
            "|   Approved| Not Graduate| 1317|\n",
            "|   Rejected| Not Graduate|  808|\n",
            "|   Rejected|     Graduate|  805|\n",
            "|   Approved|     Graduate| 1339|\n",
            "+-----------+-------------+-----+\n",
            "\n"
          ]
        }
      ],
      "source": [
        "df.select('education', 'loan_Status').groupBy('loan_Status', 'education').count().show()"
      ]
    },
    {
      "cell_type": "markdown",
      "metadata": {
        "id": "h3CPv7ehw_q9"
      },
      "source": [
        "## Correlation Matrix"
      ]
    },
    {
      "cell_type": "code",
      "execution_count": 79,
      "metadata": {
        "id": "9m5uHnAiw_q9",
        "outputId": "2031dbe6-d09e-43fe-ee1a-3b5f87e85763",
        "colab": {
          "base_uri": "https://localhost:8080/",
          "height": 334
        }
      },
      "outputs": [
        {
          "output_type": "execute_result",
          "data": {
            "text/plain": [
              "                          income_annum  loan_amount  loan_term  cibil_score  \\\n",
              "                                                                              \n",
              "income_annum                      1.00         0.93       0.01        -0.02   \n",
              "loan_amount                       0.93         1.00       0.01        -0.02   \n",
              "loan_term                         0.01         0.01       1.00         0.01   \n",
              "cibil_score                      -0.02        -0.02       0.01         1.00   \n",
              "residential_assets_value          0.64         0.59       0.01        -0.02   \n",
              "commercial_assets_value           0.64         0.60      -0.01        -0.00   \n",
              "luxury_assets_value               0.93         0.86       0.01        -0.03   \n",
              "bank_asset_value                  0.85         0.79       0.02        -0.02   \n",
              "\n",
              "                          residential_assets_value  commercial_assets_value  \\\n",
              "                                                                              \n",
              "income_annum                                  0.64                     0.64   \n",
              "loan_amount                                   0.59                     0.60   \n",
              "loan_term                                     0.01                    -0.01   \n",
              "cibil_score                                  -0.02                    -0.00   \n",
              "residential_assets_value                      1.00                     0.41   \n",
              "commercial_assets_value                       0.41                     1.00   \n",
              "luxury_assets_value                           0.59                     0.59   \n",
              "bank_asset_value                              0.53                     0.55   \n",
              "\n",
              "                          luxury_assets_value  bank_asset_value  \n",
              "                                                                 \n",
              "income_annum                             0.93              0.85  \n",
              "loan_amount                              0.86              0.79  \n",
              "loan_term                                0.01              0.02  \n",
              "cibil_score                             -0.03             -0.02  \n",
              "residential_assets_value                 0.59              0.53  \n",
              "commercial_assets_value                  0.59              0.55  \n",
              "luxury_assets_value                      1.00              0.79  \n",
              "bank_asset_value                         0.79              1.00  "
            ],
            "text/html": [
              "\n",
              "  <div id=\"df-2defade4-3edc-4ae0-bfec-01e2c21e2fc9\" class=\"colab-df-container\">\n",
              "    <div>\n",
              "<style scoped>\n",
              "    .dataframe tbody tr th:only-of-type {\n",
              "        vertical-align: middle;\n",
              "    }\n",
              "\n",
              "    .dataframe tbody tr th {\n",
              "        vertical-align: top;\n",
              "    }\n",
              "\n",
              "    .dataframe thead th {\n",
              "        text-align: right;\n",
              "    }\n",
              "</style>\n",
              "<table border=\"1\" class=\"dataframe\">\n",
              "  <thead>\n",
              "    <tr style=\"text-align: right;\">\n",
              "      <th></th>\n",
              "      <th>income_annum</th>\n",
              "      <th>loan_amount</th>\n",
              "      <th>loan_term</th>\n",
              "      <th>cibil_score</th>\n",
              "      <th>residential_assets_value</th>\n",
              "      <th>commercial_assets_value</th>\n",
              "      <th>luxury_assets_value</th>\n",
              "      <th>bank_asset_value</th>\n",
              "    </tr>\n",
              "    <tr>\n",
              "      <th></th>\n",
              "      <th></th>\n",
              "      <th></th>\n",
              "      <th></th>\n",
              "      <th></th>\n",
              "      <th></th>\n",
              "      <th></th>\n",
              "      <th></th>\n",
              "      <th></th>\n",
              "    </tr>\n",
              "  </thead>\n",
              "  <tbody>\n",
              "    <tr>\n",
              "      <th>income_annum</th>\n",
              "      <td>1.00</td>\n",
              "      <td>0.93</td>\n",
              "      <td>0.01</td>\n",
              "      <td>-0.02</td>\n",
              "      <td>0.64</td>\n",
              "      <td>0.64</td>\n",
              "      <td>0.93</td>\n",
              "      <td>0.85</td>\n",
              "    </tr>\n",
              "    <tr>\n",
              "      <th>loan_amount</th>\n",
              "      <td>0.93</td>\n",
              "      <td>1.00</td>\n",
              "      <td>0.01</td>\n",
              "      <td>-0.02</td>\n",
              "      <td>0.59</td>\n",
              "      <td>0.60</td>\n",
              "      <td>0.86</td>\n",
              "      <td>0.79</td>\n",
              "    </tr>\n",
              "    <tr>\n",
              "      <th>loan_term</th>\n",
              "      <td>0.01</td>\n",
              "      <td>0.01</td>\n",
              "      <td>1.00</td>\n",
              "      <td>0.01</td>\n",
              "      <td>0.01</td>\n",
              "      <td>-0.01</td>\n",
              "      <td>0.01</td>\n",
              "      <td>0.02</td>\n",
              "    </tr>\n",
              "    <tr>\n",
              "      <th>cibil_score</th>\n",
              "      <td>-0.02</td>\n",
              "      <td>-0.02</td>\n",
              "      <td>0.01</td>\n",
              "      <td>1.00</td>\n",
              "      <td>-0.02</td>\n",
              "      <td>-0.00</td>\n",
              "      <td>-0.03</td>\n",
              "      <td>-0.02</td>\n",
              "    </tr>\n",
              "    <tr>\n",
              "      <th>residential_assets_value</th>\n",
              "      <td>0.64</td>\n",
              "      <td>0.59</td>\n",
              "      <td>0.01</td>\n",
              "      <td>-0.02</td>\n",
              "      <td>1.00</td>\n",
              "      <td>0.41</td>\n",
              "      <td>0.59</td>\n",
              "      <td>0.53</td>\n",
              "    </tr>\n",
              "    <tr>\n",
              "      <th>commercial_assets_value</th>\n",
              "      <td>0.64</td>\n",
              "      <td>0.60</td>\n",
              "      <td>-0.01</td>\n",
              "      <td>-0.00</td>\n",
              "      <td>0.41</td>\n",
              "      <td>1.00</td>\n",
              "      <td>0.59</td>\n",
              "      <td>0.55</td>\n",
              "    </tr>\n",
              "    <tr>\n",
              "      <th>luxury_assets_value</th>\n",
              "      <td>0.93</td>\n",
              "      <td>0.86</td>\n",
              "      <td>0.01</td>\n",
              "      <td>-0.03</td>\n",
              "      <td>0.59</td>\n",
              "      <td>0.59</td>\n",
              "      <td>1.00</td>\n",
              "      <td>0.79</td>\n",
              "    </tr>\n",
              "    <tr>\n",
              "      <th>bank_asset_value</th>\n",
              "      <td>0.85</td>\n",
              "      <td>0.79</td>\n",
              "      <td>0.02</td>\n",
              "      <td>-0.02</td>\n",
              "      <td>0.53</td>\n",
              "      <td>0.55</td>\n",
              "      <td>0.79</td>\n",
              "      <td>1.00</td>\n",
              "    </tr>\n",
              "  </tbody>\n",
              "</table>\n",
              "</div>\n",
              "    <div class=\"colab-df-buttons\">\n",
              "\n",
              "  <div class=\"colab-df-container\">\n",
              "    <button class=\"colab-df-convert\" onclick=\"convertToInteractive('df-2defade4-3edc-4ae0-bfec-01e2c21e2fc9')\"\n",
              "            title=\"Convert this dataframe to an interactive table.\"\n",
              "            style=\"display:none;\">\n",
              "\n",
              "  <svg xmlns=\"http://www.w3.org/2000/svg\" height=\"24px\" viewBox=\"0 -960 960 960\">\n",
              "    <path d=\"M120-120v-720h720v720H120Zm60-500h600v-160H180v160Zm220 220h160v-160H400v160Zm0 220h160v-160H400v160ZM180-400h160v-160H180v160Zm440 0h160v-160H620v160ZM180-180h160v-160H180v160Zm440 0h160v-160H620v160Z\"/>\n",
              "  </svg>\n",
              "    </button>\n",
              "\n",
              "  <style>\n",
              "    .colab-df-container {\n",
              "      display:flex;\n",
              "      gap: 12px;\n",
              "    }\n",
              "\n",
              "    .colab-df-convert {\n",
              "      background-color: #E8F0FE;\n",
              "      border: none;\n",
              "      border-radius: 50%;\n",
              "      cursor: pointer;\n",
              "      display: none;\n",
              "      fill: #1967D2;\n",
              "      height: 32px;\n",
              "      padding: 0 0 0 0;\n",
              "      width: 32px;\n",
              "    }\n",
              "\n",
              "    .colab-df-convert:hover {\n",
              "      background-color: #E2EBFA;\n",
              "      box-shadow: 0px 1px 2px rgba(60, 64, 67, 0.3), 0px 1px 3px 1px rgba(60, 64, 67, 0.15);\n",
              "      fill: #174EA6;\n",
              "    }\n",
              "\n",
              "    .colab-df-buttons div {\n",
              "      margin-bottom: 4px;\n",
              "    }\n",
              "\n",
              "    [theme=dark] .colab-df-convert {\n",
              "      background-color: #3B4455;\n",
              "      fill: #D2E3FC;\n",
              "    }\n",
              "\n",
              "    [theme=dark] .colab-df-convert:hover {\n",
              "      background-color: #434B5C;\n",
              "      box-shadow: 0px 1px 3px 1px rgba(0, 0, 0, 0.15);\n",
              "      filter: drop-shadow(0px 1px 2px rgba(0, 0, 0, 0.3));\n",
              "      fill: #FFFFFF;\n",
              "    }\n",
              "  </style>\n",
              "\n",
              "    <script>\n",
              "      const buttonEl =\n",
              "        document.querySelector('#df-2defade4-3edc-4ae0-bfec-01e2c21e2fc9 button.colab-df-convert');\n",
              "      buttonEl.style.display =\n",
              "        google.colab.kernel.accessAllowed ? 'block' : 'none';\n",
              "\n",
              "      async function convertToInteractive(key) {\n",
              "        const element = document.querySelector('#df-2defade4-3edc-4ae0-bfec-01e2c21e2fc9');\n",
              "        const dataTable =\n",
              "          await google.colab.kernel.invokeFunction('convertToInteractive',\n",
              "                                                    [key], {});\n",
              "        if (!dataTable) return;\n",
              "\n",
              "        const docLinkHtml = 'Like what you see? Visit the ' +\n",
              "          '<a target=\"_blank\" href=https://colab.research.google.com/notebooks/data_table.ipynb>data table notebook</a>'\n",
              "          + ' to learn more about interactive tables.';\n",
              "        element.innerHTML = '';\n",
              "        dataTable['output_type'] = 'display_data';\n",
              "        await google.colab.output.renderOutput(dataTable, element);\n",
              "        const docLink = document.createElement('div');\n",
              "        docLink.innerHTML = docLinkHtml;\n",
              "        element.appendChild(docLink);\n",
              "      }\n",
              "    </script>\n",
              "  </div>\n",
              "\n",
              "\n",
              "<div id=\"df-559cbb47-7a23-4cc5-b040-dfa7f54feeb2\">\n",
              "  <button class=\"colab-df-quickchart\" onclick=\"quickchart('df-559cbb47-7a23-4cc5-b040-dfa7f54feeb2')\"\n",
              "            title=\"Suggest charts\"\n",
              "            style=\"display:none;\">\n",
              "\n",
              "<svg xmlns=\"http://www.w3.org/2000/svg\" height=\"24px\"viewBox=\"0 0 24 24\"\n",
              "     width=\"24px\">\n",
              "    <g>\n",
              "        <path d=\"M19 3H5c-1.1 0-2 .9-2 2v14c0 1.1.9 2 2 2h14c1.1 0 2-.9 2-2V5c0-1.1-.9-2-2-2zM9 17H7v-7h2v7zm4 0h-2V7h2v10zm4 0h-2v-4h2v4z\"/>\n",
              "    </g>\n",
              "</svg>\n",
              "  </button>\n",
              "\n",
              "<style>\n",
              "  .colab-df-quickchart {\n",
              "      --bg-color: #E8F0FE;\n",
              "      --fill-color: #1967D2;\n",
              "      --hover-bg-color: #E2EBFA;\n",
              "      --hover-fill-color: #174EA6;\n",
              "      --disabled-fill-color: #AAA;\n",
              "      --disabled-bg-color: #DDD;\n",
              "  }\n",
              "\n",
              "  [theme=dark] .colab-df-quickchart {\n",
              "      --bg-color: #3B4455;\n",
              "      --fill-color: #D2E3FC;\n",
              "      --hover-bg-color: #434B5C;\n",
              "      --hover-fill-color: #FFFFFF;\n",
              "      --disabled-bg-color: #3B4455;\n",
              "      --disabled-fill-color: #666;\n",
              "  }\n",
              "\n",
              "  .colab-df-quickchart {\n",
              "    background-color: var(--bg-color);\n",
              "    border: none;\n",
              "    border-radius: 50%;\n",
              "    cursor: pointer;\n",
              "    display: none;\n",
              "    fill: var(--fill-color);\n",
              "    height: 32px;\n",
              "    padding: 0;\n",
              "    width: 32px;\n",
              "  }\n",
              "\n",
              "  .colab-df-quickchart:hover {\n",
              "    background-color: var(--hover-bg-color);\n",
              "    box-shadow: 0 1px 2px rgba(60, 64, 67, 0.3), 0 1px 3px 1px rgba(60, 64, 67, 0.15);\n",
              "    fill: var(--button-hover-fill-color);\n",
              "  }\n",
              "\n",
              "  .colab-df-quickchart-complete:disabled,\n",
              "  .colab-df-quickchart-complete:disabled:hover {\n",
              "    background-color: var(--disabled-bg-color);\n",
              "    fill: var(--disabled-fill-color);\n",
              "    box-shadow: none;\n",
              "  }\n",
              "\n",
              "  .colab-df-spinner {\n",
              "    border: 2px solid var(--fill-color);\n",
              "    border-color: transparent;\n",
              "    border-bottom-color: var(--fill-color);\n",
              "    animation:\n",
              "      spin 1s steps(1) infinite;\n",
              "  }\n",
              "\n",
              "  @keyframes spin {\n",
              "    0% {\n",
              "      border-color: transparent;\n",
              "      border-bottom-color: var(--fill-color);\n",
              "      border-left-color: var(--fill-color);\n",
              "    }\n",
              "    20% {\n",
              "      border-color: transparent;\n",
              "      border-left-color: var(--fill-color);\n",
              "      border-top-color: var(--fill-color);\n",
              "    }\n",
              "    30% {\n",
              "      border-color: transparent;\n",
              "      border-left-color: var(--fill-color);\n",
              "      border-top-color: var(--fill-color);\n",
              "      border-right-color: var(--fill-color);\n",
              "    }\n",
              "    40% {\n",
              "      border-color: transparent;\n",
              "      border-right-color: var(--fill-color);\n",
              "      border-top-color: var(--fill-color);\n",
              "    }\n",
              "    60% {\n",
              "      border-color: transparent;\n",
              "      border-right-color: var(--fill-color);\n",
              "    }\n",
              "    80% {\n",
              "      border-color: transparent;\n",
              "      border-right-color: var(--fill-color);\n",
              "      border-bottom-color: var(--fill-color);\n",
              "    }\n",
              "    90% {\n",
              "      border-color: transparent;\n",
              "      border-bottom-color: var(--fill-color);\n",
              "    }\n",
              "  }\n",
              "</style>\n",
              "\n",
              "  <script>\n",
              "    async function quickchart(key) {\n",
              "      const quickchartButtonEl =\n",
              "        document.querySelector('#' + key + ' button');\n",
              "      quickchartButtonEl.disabled = true;  // To prevent multiple clicks.\n",
              "      quickchartButtonEl.classList.add('colab-df-spinner');\n",
              "      try {\n",
              "        const charts = await google.colab.kernel.invokeFunction(\n",
              "            'suggestCharts', [key], {});\n",
              "      } catch (error) {\n",
              "        console.error('Error during call to suggestCharts:', error);\n",
              "      }\n",
              "      quickchartButtonEl.classList.remove('colab-df-spinner');\n",
              "      quickchartButtonEl.classList.add('colab-df-quickchart-complete');\n",
              "    }\n",
              "    (() => {\n",
              "      let quickchartButtonEl =\n",
              "        document.querySelector('#df-559cbb47-7a23-4cc5-b040-dfa7f54feeb2 button');\n",
              "      quickchartButtonEl.style.display =\n",
              "        google.colab.kernel.accessAllowed ? 'block' : 'none';\n",
              "    })();\n",
              "  </script>\n",
              "</div>\n",
              "    </div>\n",
              "  </div>\n"
            ],
            "application/vnd.google.colaboratory.intrinsic+json": {
              "type": "dataframe",
              "summary": "{\n  \"name\": \"corr_df\",\n  \"rows\": 8,\n  \"fields\": [\n    {\n      \"column\": \"income_annum\",\n      \"properties\": {\n        \"dtype\": \"number\",\n        \"std\": 0.4091716370564174,\n        \"min\": -0.02,\n        \"max\": 1.0,\n        \"num_unique_values\": 6,\n        \"samples\": [\n          1.0,\n          0.93,\n          0.85\n        ],\n        \"semantic_type\": \"\",\n        \"description\": \"\"\n      }\n    },\n    {\n      \"column\": \"loan_amount\",\n      \"properties\": {\n        \"dtype\": \"number\",\n        \"std\": 0.3973123995763823,\n        \"min\": -0.02,\n        \"max\": 1.0,\n        \"num_unique_values\": 8,\n        \"samples\": [\n          1.0,\n          0.6,\n          0.93\n        ],\n        \"semantic_type\": \"\",\n        \"description\": \"\"\n      }\n    },\n    {\n      \"column\": \"loan_term\",\n      \"properties\": {\n        \"dtype\": \"number\",\n        \"std\": 0.35062189647213177,\n        \"min\": -0.01,\n        \"max\": 1.0,\n        \"num_unique_values\": 4,\n        \"samples\": [\n          1.0,\n          0.02,\n          0.01\n        ],\n        \"semantic_type\": \"\",\n        \"description\": \"\"\n      }\n    },\n    {\n      \"column\": \"cibil_score\",\n      \"properties\": {\n        \"dtype\": \"number\",\n        \"std\": 0.35883740846556916,\n        \"min\": -0.03,\n        \"max\": 1.0,\n        \"num_unique_values\": 5,\n        \"samples\": [\n          0.01,\n          -0.03,\n          1.0\n        ],\n        \"semantic_type\": \"\",\n        \"description\": \"\"\n      }\n    },\n    {\n      \"column\": \"residential_assets_value\",\n      \"properties\": {\n        \"dtype\": \"number\",\n        \"std\": 0.3375304219093232,\n        \"min\": -0.02,\n        \"max\": 1.0,\n        \"num_unique_values\": 7,\n        \"samples\": [\n          0.64,\n          0.59,\n          0.41\n        ],\n        \"semantic_type\": \"\",\n        \"description\": \"\"\n      }\n    },\n    {\n      \"column\": \"commercial_assets_value\",\n      \"properties\": {\n        \"dtype\": \"number\",\n        \"std\": 0.3385578659127987,\n        \"min\": -0.01,\n        \"max\": 1.0,\n        \"num_unique_values\": 8,\n        \"samples\": [\n          0.6,\n          1.0,\n          0.64\n        ],\n        \"semantic_type\": \"\",\n        \"description\": \"\"\n      }\n    },\n    {\n      \"column\": \"luxury_assets_value\",\n      \"properties\": {\n        \"dtype\": \"number\",\n        \"std\": 0.3995265054679459,\n        \"min\": -0.03,\n        \"max\": 1.0,\n        \"num_unique_values\": 7,\n        \"samples\": [\n          0.93,\n          0.86,\n          1.0\n        ],\n        \"semantic_type\": \"\",\n        \"description\": \"\"\n      }\n    },\n    {\n      \"column\": \"bank_asset_value\",\n      \"properties\": {\n        \"dtype\": \"number\",\n        \"std\": 0.38029828518451897,\n        \"min\": -0.02,\n        \"max\": 1.0,\n        \"num_unique_values\": 7,\n        \"samples\": [\n          0.85,\n          0.79,\n          0.55\n        ],\n        \"semantic_type\": \"\",\n        \"description\": \"\"\n      }\n    }\n  ]\n}"
            }
          },
          "metadata": {},
          "execution_count": 79
        }
      ],
      "source": [
        "columns = ['income_annum',\n",
        " 'loan_amount',\n",
        " 'loan_term',\n",
        " 'cibil_score',\n",
        " 'residential_assets_value',\n",
        " 'commercial_assets_value',\n",
        " 'luxury_assets_value',\n",
        " 'bank_asset_value']\n",
        "corr_df = pd.DataFrame()\n",
        "for i in columns:\n",
        "    corr = []\n",
        "    for j in columns:\n",
        "        corr.append(round(df.stat.corr(i, j), 2))\n",
        "    corr_df = pd.concat([corr_df, pd.Series(corr)], axis=1)\n",
        "corr_df.columns = columns\n",
        "corr_df.insert(0, '', columns)\n",
        "corr_df.set_index('')"
      ]
    },
    {
      "cell_type": "markdown",
      "metadata": {
        "id": "XojwHJ2rw_q9"
      },
      "source": [
        "## Perform SQL Operations"
      ]
    },
    {
      "cell_type": "code",
      "execution_count": 80,
      "metadata": {
        "id": "DMoPdLlyw_q9"
      },
      "outputs": [],
      "source": [
        "import pyspark.sql as sparksql"
      ]
    },
    {
      "cell_type": "code",
      "execution_count": 81,
      "metadata": {
        "id": "5-q3-4Otw_q9"
      },
      "outputs": [],
      "source": [
        "df.createOrReplaceTempView('table')"
      ]
    },
    {
      "cell_type": "code",
      "execution_count": 82,
      "metadata": {
        "id": "NDNWt4X2w_q9",
        "outputId": "8af56de5-e1bc-4564-ad74-bd207a4d0f1e",
        "colab": {
          "base_uri": "https://localhost:8080/"
        }
      },
      "outputs": [
        {
          "output_type": "stream",
          "name": "stdout",
          "text": [
            "+-------+----------------+-------------+-------------+------------+-----------+---------+-----------+------------------------+-----------------------+-------------------+----------------+-----------+\n",
            "|loan_id|no_of_dependents|    education|self_employed|income_annum|loan_amount|loan_term|cibil_score|residential_assets_value|commercial_assets_value|luxury_assets_value|bank_asset_value|loan_status|\n",
            "+-------+----------------+-------------+-------------+------------+-----------+---------+-----------+------------------------+-----------------------+-------------------+----------------+-----------+\n",
            "|      1|               2|     Graduate|           No|     9600000|   29900000|       12|        778|                 2400000|               17600000|           22700000|         8000000|   Approved|\n",
            "|      2|               0| Not Graduate|          Yes|     4100000|   12200000|        8|        417|                 2700000|                2200000|            8800000|         3300000|   Rejected|\n",
            "|      3|               3|     Graduate|           No|     9100000|   29700000|       20|        506|                 7100000|                4500000|           33300000|        12800000|   Rejected|\n",
            "|      4|               3|     Graduate|           No|     8200000|   30700000|        8|        467|                18200000|                3300000|           23300000|         7900000|   Rejected|\n",
            "|      5|               5| Not Graduate|          Yes|     9800000|   24200000|       20|        382|                12400000|                8200000|           29400000|         5000000|   Rejected|\n",
            "+-------+----------------+-------------+-------------+------------+-----------+---------+-----------+------------------------+-----------------------+-------------------+----------------+-----------+\n",
            "\n"
          ]
        }
      ],
      "source": [
        "spark.sql(\"select * from table limit 5\").show()"
      ]
    },
    {
      "cell_type": "markdown",
      "metadata": {
        "id": "qaO8D0_0w_q9"
      },
      "source": [
        "## Data Cleaning"
      ]
    },
    {
      "cell_type": "code",
      "execution_count": 83,
      "metadata": {
        "id": "wWpJTv2vw_q-",
        "outputId": "4d63e383-2a87-49ed-b89c-c2a2b3751d50",
        "colab": {
          "base_uri": "https://localhost:8080/"
        }
      },
      "outputs": [
        {
          "output_type": "stream",
          "name": "stdout",
          "text": [
            "+-------+----------------+---------+-------------+------------+-----------+---------+-----------+------------------------+-----------------------+-------------------+----------------+-----------+\n",
            "|loan_id|no_of_dependents|education|self_employed|income_annum|loan_amount|loan_term|cibil_score|residential_assets_value|commercial_assets_value|luxury_assets_value|bank_asset_value|loan_status|\n",
            "+-------+----------------+---------+-------------+------------+-----------+---------+-----------+------------------------+-----------------------+-------------------+----------------+-----------+\n",
            "|      0|               0|        0|            0|           0|          0|        0|          0|                       0|                      0|                  0|               0|          0|\n",
            "+-------+----------------+---------+-------------+------------+-----------+---------+-----------+------------------------+-----------------------+-------------------+----------------+-----------+\n",
            "\n"
          ]
        }
      ],
      "source": [
        "df.select([F.count(F.when(F.col(c).isNull(), c)).alias(c) for c in df.columns]).show()"
      ]
    },
    {
      "cell_type": "code",
      "source": [
        "from pyspark.ml.feature import VectorAssembler, OneHotEncoder, StringIndexer\n",
        "ind=StringIndexer(inputCol='loan_status',outputCol='loan_status_index')\n",
        "indx=ind.fit(df).transform(df)"
      ],
      "metadata": {
        "id": "hIKIXg-DU1CO"
      },
      "execution_count": 109,
      "outputs": []
    },
    {
      "cell_type": "markdown",
      "metadata": {
        "id": "hEMmJ5ifw_q-"
      },
      "source": [
        "## Feature Engineering"
      ]
    },
    {
      "cell_type": "code",
      "execution_count": 84,
      "metadata": {
        "id": "3FE6xHqFw_q_",
        "outputId": "00d49004-11ea-4220-edc9-6518e02f013f",
        "colab": {
          "base_uri": "https://localhost:8080/"
        }
      },
      "outputs": [
        {
          "output_type": "stream",
          "name": "stdout",
          "text": [
            "root\n",
            " |-- loan_id: integer (nullable = true)\n",
            " |-- no_of_dependents: integer (nullable = true)\n",
            " |-- education: string (nullable = true)\n",
            " |-- self_employed: string (nullable = true)\n",
            " |-- income_annum: integer (nullable = true)\n",
            " |-- loan_amount: integer (nullable = true)\n",
            " |-- loan_term: integer (nullable = true)\n",
            " |-- cibil_score: integer (nullable = true)\n",
            " |-- residential_assets_value: integer (nullable = true)\n",
            " |-- commercial_assets_value: integer (nullable = true)\n",
            " |-- luxury_assets_value: integer (nullable = true)\n",
            " |-- bank_asset_value: integer (nullable = true)\n",
            " |-- loan_status: string (nullable = true)\n",
            "\n"
          ]
        }
      ],
      "source": [
        "df.printSchema()"
      ]
    },
    {
      "cell_type": "code",
      "execution_count": 110,
      "metadata": {
        "id": "wfwRgy5Uw_q_"
      },
      "outputs": [],
      "source": [
        "from pyspark.ml.feature import VectorAssembler, OneHotEncoder, StringIndexer\n",
        "from pyspark.ml import Pipeline"
      ]
    },
    {
      "cell_type": "code",
      "execution_count": 111,
      "metadata": {
        "id": "MOmlunYkw_q_"
      },
      "outputs": [],
      "source": [
        "categorical_columns = ['education','self_employed']\n",
        "numerical_columns = ['no_of_dependents','income_annum',\n",
        " 'loan_amount',\n",
        " 'loan_term',\n",
        " 'cibil_score',\n",
        " 'residential_assets_value',\n",
        " 'commercial_assets_value',\n",
        " 'luxury_assets_value',\n",
        " 'bank_asset_value']\n",
        "\n",
        "# index the string columns\n",
        "indexers = [StringIndexer(inputCol=col, outputCol=\"{0}_index\".format(col)) for col in categorical_columns]\n",
        "\n",
        "# encode the indexed values\n",
        "#encoders = [OneHotEncoder(dropLast=False, inputCol=indexer.getOutputCol(), outputCol=\"{0}_encoded\".format(indexer.getOutputCol()))\n",
        "\n",
        "\n",
        "input_columns = [indexer.getOutputCol()  for indexer in indexers] + numerical_columns\n",
        "\n",
        "# vectorize the encoded values\n",
        "assembler = VectorAssembler(inputCols=input_columns, outputCol=\"feature\")"
      ]
    },
    {
      "cell_type": "code",
      "execution_count": 112,
      "metadata": {
        "id": "dCbTfz9jw_q_"
      },
      "outputs": [],
      "source": [
        "pipeline = Pipeline(stages = indexers + [assembler])"
      ]
    },
    {
      "cell_type": "code",
      "execution_count": 113,
      "metadata": {
        "id": "u-tU-RQow_q_"
      },
      "outputs": [],
      "source": [
        "data_model = pipeline.fit(indx)"
      ]
    },
    {
      "cell_type": "code",
      "execution_count": 114,
      "metadata": {
        "id": "sAamcRRVw_q_"
      },
      "outputs": [],
      "source": [
        "transformed_df = data_model.transform(indx)"
      ]
    },
    {
      "cell_type": "code",
      "execution_count": 115,
      "metadata": {
        "id": "WYiC2KIFw_rE",
        "outputId": "957f1670-0a19-45bc-c63f-ff9bffa9e664",
        "colab": {
          "base_uri": "https://localhost:8080/"
        }
      },
      "outputs": [
        {
          "output_type": "stream",
          "name": "stdout",
          "text": [
            "+-------+----------------+---------+-------------+------------+-----------+---------+-----------+------------------------+-----------------------+-------------------+----------------+-----------+-----------------+---------------+-------------------+--------------------+\n",
            "|loan_id|no_of_dependents|education|self_employed|income_annum|loan_amount|loan_term|cibil_score|residential_assets_value|commercial_assets_value|luxury_assets_value|bank_asset_value|loan_status|loan_status_index|education_index|self_employed_index|             feature|\n",
            "+-------+----------------+---------+-------------+------------+-----------+---------+-----------+------------------------+-----------------------+-------------------+----------------+-----------+-----------------+---------------+-------------------+--------------------+\n",
            "|      1|               2| Graduate|           No|     9600000|   29900000|       12|        778|                 2400000|               17600000|           22700000|         8000000|   Approved|              0.0|            0.0|                1.0|[0.0,1.0,2.0,9600...|\n",
            "+-------+----------------+---------+-------------+------------+-----------+---------+-----------+------------------------+-----------------------+-------------------+----------------+-----------+-----------------+---------------+-------------------+--------------------+\n",
            "only showing top 1 row\n",
            "\n"
          ]
        }
      ],
      "source": [
        "transformed_df.show(1)"
      ]
    },
    {
      "cell_type": "code",
      "execution_count": 116,
      "metadata": {
        "id": "NLnRecyMw_rE"
      },
      "outputs": [],
      "source": [
        "transformed_df = transformed_df.select(['feature', 'loan_status_index'])"
      ]
    },
    {
      "cell_type": "code",
      "execution_count": 117,
      "metadata": {
        "id": "wb3Rk_bxw_rE"
      },
      "outputs": [],
      "source": [
        "train_data, test_data = transformed_df.randomSplit([0.8, 0.2], seed=42)"
      ]
    },
    {
      "cell_type": "code",
      "execution_count": 118,
      "metadata": {
        "id": "ewjrNqosw_rE",
        "outputId": "0f90f7a3-2bb6-466c-d1e6-24341744a1f5",
        "colab": {
          "base_uri": "https://localhost:8080/"
        }
      },
      "outputs": [
        {
          "output_type": "stream",
          "name": "stdout",
          "text": [
            "+-----------------------------------------------------------------------------------+-----------------+\n",
            "|feature                                                                            |loan_status_index|\n",
            "+-----------------------------------------------------------------------------------+-----------------+\n",
            "|[0.0,0.0,0.0,200000.0,300000.0,18.0,520.0,100000.0,300000.0,600000.0,100000.0]     |1.0              |\n",
            "|[0.0,0.0,0.0,200000.0,600000.0,8.0,852.0,500000.0,0.0,400000.0,200000.0]           |0.0              |\n",
            "|[0.0,0.0,0.0,400000.0,900000.0,2.0,855.0,-100000.0,500000.0,1300000.0,400000.0]    |0.0              |\n",
            "|[0.0,0.0,0.0,400000.0,1200000.0,14.0,889.0,1100000.0,200000.0,700000.0,200000.0]   |0.0              |\n",
            "|[0.0,0.0,0.0,500000.0,1100000.0,18.0,479.0,1500000.0,500000.0,1800000.0,600000.0]  |1.0              |\n",
            "|[0.0,0.0,0.0,600000.0,2300000.0,4.0,319.0,1600000.0,800000.0,2300000.0,700000.0]   |0.0              |\n",
            "|[0.0,0.0,0.0,700000.0,1800000.0,12.0,400.0,1500000.0,1100000.0,2200000.0,300000.0] |1.0              |\n",
            "|[0.0,0.0,0.0,700000.0,2100000.0,12.0,813.0,200000.0,1300000.0,2200000.0,500000.0]  |0.0              |\n",
            "|[0.0,0.0,0.0,800000.0,1700000.0,4.0,752.0,2300000.0,1100000.0,3200000.0,400000.0]  |0.0              |\n",
            "|[0.0,0.0,0.0,800000.0,2100000.0,6.0,760.0,300000.0,100000.0,1600000.0,600000.0]    |0.0              |\n",
            "|[0.0,0.0,0.0,900000.0,2200000.0,16.0,566.0,100000.0,700000.0,2000000.0,600000.0]   |0.0              |\n",
            "|[0.0,0.0,0.0,900000.0,3100000.0,4.0,355.0,1700000.0,100000.0,3000000.0,500000.0]   |0.0              |\n",
            "|[0.0,0.0,0.0,900000.0,3500000.0,6.0,331.0,2400000.0,1400000.0,3500000.0,1100000.0] |1.0              |\n",
            "|[0.0,0.0,0.0,1000000.0,2800000.0,12.0,616.0,700000.0,700000.0,3900000.0,700000.0]  |0.0              |\n",
            "|[0.0,0.0,0.0,1000000.0,3100000.0,6.0,525.0,1900000.0,1700000.0,2800000.0,1400000.0]|1.0              |\n",
            "|[0.0,0.0,0.0,1000000.0,3200000.0,10.0,854.0,2600000.0,800000.0,2900000.0,1200000.0]|0.0              |\n",
            "|[0.0,0.0,0.0,1000000.0,3800000.0,8.0,553.0,2500000.0,1000000.0,2100000.0,1300000.0]|0.0              |\n",
            "|[0.0,0.0,0.0,1100000.0,2800000.0,18.0,431.0,500000.0,300000.0,4300000.0,1400000.0] |1.0              |\n",
            "|[0.0,0.0,0.0,1200000.0,2700000.0,2.0,638.0,1500000.0,500000.0,2700000.0,1500000.0] |0.0              |\n",
            "|[0.0,0.0,0.0,1200000.0,3200000.0,18.0,473.0,2100000.0,600000.0,2400000.0,1200000.0]|1.0              |\n",
            "+-----------------------------------------------------------------------------------+-----------------+\n",
            "only showing top 20 rows\n",
            "\n"
          ]
        }
      ],
      "source": [
        "train_data.show(truncate=False)"
      ]
    },
    {
      "cell_type": "markdown",
      "metadata": {
        "id": "lDp3s-Ypw_rE"
      },
      "source": [
        "## Model Training & Testing"
      ]
    },
    {
      "cell_type": "code",
      "execution_count": 128,
      "metadata": {
        "id": "lt-kfgHhw_rE"
      },
      "outputs": [],
      "source": [
        "from pyspark.ml.classification import LogisticRegression, RandomForestClassifier\n",
        "from pyspark.ml.evaluation import BinaryClassificationEvaluator,MulticlassClassificationEvaluator"
      ]
    },
    {
      "cell_type": "code",
      "execution_count": 123,
      "metadata": {
        "id": "6mimphV9w_rE"
      },
      "outputs": [],
      "source": [
        "lr = LogisticRegression(featuresCol='feature', labelCol='loan_status_index')\n",
        "lr_model = lr.fit(train_data)"
      ]
    },
    {
      "cell_type": "code",
      "execution_count": 121,
      "metadata": {
        "id": "ivnzLEP4w_rE",
        "outputId": "d6e71c43-5b66-44a4-b6a6-bdfc65f8c962",
        "colab": {
          "base_uri": "https://localhost:8080/"
        }
      },
      "outputs": [
        {
          "output_type": "stream",
          "name": "stdout",
          "text": [
            "+--------------------+-----------------+--------------------+-----------+----------+\n",
            "|             feature|loan_status_index|       rawPrediction|probability|prediction|\n",
            "+--------------------+-----------------+--------------------+-----------+----------+\n",
            "|[0.0,0.0,0.0,2000...|              1.0|[Infinity,-Infinity]|  [1.0,0.0]|       0.0|\n",
            "|[0.0,0.0,0.0,5000...|              0.0|[Infinity,-Infinity]|  [1.0,0.0]|       0.0|\n",
            "|[0.0,0.0,0.0,7000...|              0.0|[Infinity,-Infinity]|  [1.0,0.0]|       0.0|\n",
            "|[0.0,0.0,0.0,8000...|              0.0|[Infinity,-Infinity]|  [1.0,0.0]|       0.0|\n",
            "|[0.0,0.0,0.0,1000...|              1.0|[Infinity,-Infinity]|  [1.0,0.0]|       0.0|\n",
            "+--------------------+-----------------+--------------------+-----------+----------+\n",
            "only showing top 5 rows\n",
            "\n"
          ]
        }
      ],
      "source": [
        "predictions = lr_model.transform(test_data)\n",
        "predictions.show(5)"
      ]
    },
    {
      "cell_type": "code",
      "execution_count": 131,
      "metadata": {
        "id": "OHjuLMO6w_rF",
        "outputId": "939c7c19-86fc-42fe-e7bf-736b7b2c9805",
        "colab": {
          "base_uri": "https://localhost:8080/"
        }
      },
      "outputs": [
        {
          "output_type": "stream",
          "name": "stdout",
          "text": [
            "AUC: 0.970590514068777\n",
            "Accuracy:  0.900373599003736\n"
          ]
        }
      ],
      "source": [
        "predictions = lr_model.transform(test_data)\n",
        "auc = BinaryClassificationEvaluator().setLabelCol('loan_status_index')\n",
        "print('AUC:', auc.evaluate(predictions))\n",
        "mul= MulticlassClassificationEvaluator(labelCol='loan_status_index',metricName='accuracy')\n",
        "print('Accuracy: ' ,mul.evaluate(predictions))"
      ]
    },
    {
      "cell_type": "code",
      "execution_count": 126,
      "metadata": {
        "id": "-I_YNc6tw_rF"
      },
      "outputs": [],
      "source": [
        "rf = RandomForestClassifier(featuresCol='feature', labelCol='loan_status_index')\n",
        "rf_model = rf.fit(train_data)"
      ]
    },
    {
      "cell_type": "code",
      "execution_count": 132,
      "metadata": {
        "id": "MXU6opykw_rF",
        "outputId": "fde43581-6577-48d5-f1e4-b9c6cdf7b256",
        "colab": {
          "base_uri": "https://localhost:8080/"
        }
      },
      "outputs": [
        {
          "output_type": "stream",
          "name": "stdout",
          "text": [
            "AUC: 0.9933045802611018\n",
            "Accuracy:  0.962640099626401\n"
          ]
        }
      ],
      "source": [
        "predictions = rf_model.transform(test_data)\n",
        "auc = BinaryClassificationEvaluator().setLabelCol('loan_status_index')\n",
        "print('AUC:', auc.evaluate(predictions))\n",
        "mul= MulticlassClassificationEvaluator(labelCol='loan_status_index',metricName='accuracy')\n",
        "print('Accuracy: ' ,mul.evaluate(predictions))"
      ]
    },
    {
      "cell_type": "code",
      "execution_count": null,
      "metadata": {
        "id": "Xc9dkh6jw_rG"
      },
      "outputs": [],
      "source": []
    }
  ],
  "metadata": {
    "kernelspec": {
      "display_name": "Python 3",
      "language": "python",
      "name": "python3"
    },
    "language_info": {
      "codemirror_mode": {
        "name": "ipython",
        "version": 3
      },
      "file_extension": ".py",
      "mimetype": "text/x-python",
      "name": "python",
      "nbconvert_exporter": "python",
      "pygments_lexer": "ipython3",
      "version": "3.8.3"
    },
    "colab": {
      "provenance": []
    }
  },
  "nbformat": 4,
  "nbformat_minor": 0
}